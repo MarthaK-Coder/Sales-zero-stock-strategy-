{
 "cells": [
  {
   "cell_type": "raw",
   "id": "aef33e09-e05a-45a1-9124-8e6c2c939f10",
   "metadata": {},
   "source": [
    "Simulate a sales and operations planning using the zero-stock level strategy. Write a Python program that asks the user to enter the following data:\n",
    "\n",
    "- An initial stock level for a product\n",
    "- The number of month(s) to plan\n",
    "- The planned sales quantity for each month\n",
    "\n",
    "Based on this data, calculate the required production quantity as follows:\n",
    "- If the sales quantity is smaller than the stock level of the previous month, \n",
    "the production quantity is 0\n",
    "- If the sales quantity is larger than the stock level of the previous month, \n",
    "the production quantity is this difference"
   ]
  },
  {
   "cell_type": "raw",
   "id": "b09ced57-f659-4a75-be4b-ae2251f39954",
   "metadata": {},
   "source": [
    "Below is an example execution of the program:\n",
    ">>> Please enter an initial stock level: 500\n",
    ">>> Please enter the number of months to plan: 5\n",
    ">>> Please enter the planned sales quantity for month 1: 300\n",
    ">>> Please enter the planned sales quantity  for month 2: 250\n",
    ">>> Please enter the planned sales quantity  for month 3: 200\n",
    ">>> Please enter the planned sales quantity  for month 4: 400\n",
    ">>> Please enter the planned sales quantity  for month 5: 100"
   ]
  },
  {
   "cell_type": "raw",
   "id": "3815a367-3004-4d61-a940-eac3881d29ee",
   "metadata": {},
   "source": []
  },
  {
   "cell_type": "code",
   "execution_count": 2,
   "id": "3b2d164c-7816-4bad-b095-742996acb9b3",
   "metadata": {},
   "outputs": [
    {
     "name": "stdout",
     "output_type": "stream",
     "text": [
      "Welcome to the Mali Sales and Operations Planning Strategy Project\n",
      "===============================================================================================\n"
     ]
    },
    {
     "name": "stdin",
     "output_type": "stream",
     "text": [
      "Please enter the initial stock level:  500\n",
      "Please enter the number of months to plan:  5\n",
      "Please enter the planned sales quantity for month 1:  300\n",
      "Please enter the planned sales quantity for month 2:  250\n",
      "Please enter the planned sales quantity for month 3:  200\n",
      "Please enter the planned sales quantity for month 4:  400\n",
      "Please enter the planned sales quantity for month 5:  100\n"
     ]
    },
    {
     "name": "stdout",
     "output_type": "stream",
     "text": [
      "The resulting production quantities are:\n",
      "Production quantity month 1: 0\n",
      "Production quantity month 2: 50\n",
      "Production quantity month 3: 200\n",
      "Production quantity month 4: 400\n",
      "Production quantity month 5: 100\n",
      "=================================================================================================\n",
      "Thank you for reviewing Mali Sales and Operations Strategy! We look forward to your feedback.\n"
     ]
    }
   ],
   "source": [
    "# Welcome message\n",
    "print(\"Welcome to the Mali Sales and Operations Planning Strategy Project\")\n",
    "print(\"===============================================================================================\")\n",
    "\n",
    "# Populating initial stock, tenor plan and monthly sales quantity\n",
    "initial_stock_level = int(input(\"Please enter the initial stock level: \"))\n",
    "num_months = int(input(\"Please enter the number of months to plan: \"))\n",
    "\n",
    "# Initializing the variables\n",
    "sales_qty = []\n",
    "production_qty = [0]\n",
    "prev_stock = initial_stock_level\n",
    "\n",
    "# Ask user for planned sales quantity for each month\n",
    "for month in range(1, num_months + 1):\n",
    "    planned_sales_qty = int(input(f\"Please enter the planned sales quantity for month {month}: \"))\n",
    "    sales_qty.append(planned_sales_qty)\n",
    "\n",
    "    if planned_sales_qty <= prev_stock:\n",
    "        production_qty.append(0)\n",
    "    else:\n",
    "        production_qty.append(planned_sales_qty - prev_stock)\n",
    "\n",
    "    prev_stock = prev_stock - planned_sales_qty + production_qty[month]\n",
    "\n",
    "# Print the resulting production quantities\n",
    "print(\"The resulting production quantities are:\")\n",
    "for month, prod_qty in enumerate(production_qty[1:], start=1):\n",
    "    print(f\"Production quantity month {month}: {prod_qty}\")\n",
    "\n",
    "print(\"=================================================================================================\")\n",
    "print(\"Thank you for reviewing Mali Sales and Operations Strategy! We look forward to your feedback.\")\n"
   ]
  },
  {
   "cell_type": "code",
   "execution_count": null,
   "id": "7d15a5f0-411b-41ae-997a-289be9b92bb8",
   "metadata": {},
   "outputs": [],
   "source": []
  }
 ],
 "metadata": {
  "kernelspec": {
   "display_name": "anaconda-2022.05-py39",
   "language": "python",
   "name": "conda-env-anaconda-2022.05-py39-py"
  },
  "language_info": {
   "codemirror_mode": {
    "name": "ipython",
    "version": 3
   },
   "file_extension": ".py",
   "mimetype": "text/x-python",
   "name": "python",
   "nbconvert_exporter": "python",
   "pygments_lexer": "ipython3",
   "version": "3.9.12"
  }
 },
 "nbformat": 4,
 "nbformat_minor": 5
}
